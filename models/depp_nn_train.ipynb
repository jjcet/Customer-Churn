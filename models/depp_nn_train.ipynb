{
 "cells": [
  {
   "cell_type": "code",
   "execution_count": 11,
   "metadata": {},
   "outputs": [],
   "source": [
    "import torch\n",
    "from torch.utils.data import Dataset, DataLoader\n",
    "import pandas as pd\n",
    "import torch.nn as nn\n",
    "import torch.nn.functional as F"
   ]
  },
  {
   "cell_type": "code",
   "execution_count": 3,
   "metadata": {},
   "outputs": [
    {
     "name": "stdout",
     "output_type": "stream",
     "text": [
      "c:\\Users\\johny\\ChurnProject\\Customer-Churn\n",
      "c:\\Users\\johny\\ChurnProject\\Customer-Churn\\data\n"
     ]
    }
   ],
   "source": [
    "%pwd\n",
    "%cd \"../\"\n",
    "%cd \"data\""
   ]
  },
  {
   "cell_type": "code",
   "execution_count": 77,
   "metadata": {},
   "outputs": [],
   "source": [
    "class MyDataset(Dataset):\n",
    " \n",
    "  def __init__(self,split):\n",
    "    X = pd.read_csv(f\"X_{split}.csv\")\n",
    "    y = pd.read_csv(f\"y_{split}.csv\")\n",
    "\n",
    "    self.input_size = X.shape[1]\n",
    "\n",
    "    self.x=torch.tensor(X.values,dtype=torch.float32)\n",
    "    self.y=torch.tensor(y.values,dtype=torch.long).view(-1)\n",
    "    print(self.x.shape, self.y.shape)\n",
    " \n",
    "  def __len__(self):\n",
    "    return len(self.y)\n",
    "  \n",
    "   \n",
    "  def __getitem__(self,idx):\n",
    "    return self.x[idx],self.y[idx]"
   ]
  },
  {
   "cell_type": "code",
   "execution_count": 78,
   "metadata": {},
   "outputs": [
    {
     "name": "stdout",
     "output_type": "stream",
     "text": [
      "torch.Size([5625, 35]) torch.Size([5625])\n",
      "torch.Size([1407, 35]) torch.Size([1407])\n"
     ]
    }
   ],
   "source": [
    "training_set=MyDataset(split=\"train\")\n",
    "validation_set=MyDataset(split=\"test\") \n",
    "training_loader=DataLoader(training_set, batch_size=80, shuffle=True)\n",
    "validation_loader=DataLoader(validation_set,batch_size=80,shuffle=False)"
   ]
  },
  {
   "cell_type": "code",
   "execution_count": 79,
   "metadata": {},
   "outputs": [
    {
     "name": "stdout",
     "output_type": "stream",
     "text": [
      "Training set has 5625 instances\n",
      "Input vector size set has length of 35 \n",
      "Validation set has 1407 instances\n"
     ]
    }
   ],
   "source": [
    "print('Training set has {} instances'.format(len(training_set)))\n",
    "print('Input vector size set has length of {} '.format(training_set.input_size))\n",
    "print('Validation set has {} instances'.format(len(validation_set)))"
   ]
  },
  {
   "cell_type": "code",
   "execution_count": 104,
   "metadata": {},
   "outputs": [],
   "source": [
    "class ChurnClassifier(nn.Module):\n",
    "    def __init__(self, input_length, num_classes):\n",
    "        super(ChurnClassifier, self).__init__()\n",
    "        self.fc1 = nn.Linear(input_length, 120)\n",
    "        self.fc2 = nn.Linear(120, 120)\n",
    "        self.fc3 = nn.Linear(120, 120)\n",
    "        self.fc4 = nn.Linear(120, 50)\n",
    "        self.fc5 = nn.Linear(50, 10)\n",
    "        self.fc6 = nn.Linear(10, num_classes)\n",
    "        self.relu = nn.ReLU()\n",
    "        self.loss = torch.nn.CrossEntropyLoss()\n",
    "        self.dropout = nn.Dropout(0.1)\n",
    "\n",
    "\n",
    "    def forward(self, x, targets=None):\n",
    "        x = self.fc1(x)\n",
    "        x = self.relu(x)\n",
    "        x = self.fc2(x)\n",
    "        x = self.relu(x)\n",
    "        x = self.fc3(x)\n",
    "        x = self.relu(x)\n",
    "        x = self.fc4(x)\n",
    "        x = self.relu(x)\n",
    "        x = self.fc5(x)\n",
    "        x = self.relu(x)\n",
    "        x = self.fc6(x)\n",
    "        if targets is None:\n",
    "            loss = None\n",
    "        else:\n",
    "            loss = self.loss(x, targets)\n",
    "        return x, loss\n",
    "\n",
    "\n",
    "\n",
    "model = ChurnClassifier(input_length=training_set.input_size, num_classes=2)"
   ]
  },
  {
   "cell_type": "code",
   "execution_count": 105,
   "metadata": {},
   "outputs": [
    {
     "data": {
      "text/plain": [
       "(tensor([0.2135, 0.1638], grad_fn=<AddBackward0>), None)"
      ]
     },
     "execution_count": 105,
     "metadata": {},
     "output_type": "execute_result"
    }
   ],
   "source": [
    "model(torch.rand(training_set.input_size))"
   ]
  },
  {
   "cell_type": "code",
   "execution_count": 106,
   "metadata": {},
   "outputs": [],
   "source": [
    "# Optimizers specified in the torch.optim package\n",
    "optimizer = torch.optim.SGD(model.parameters(), lr=0.01, momentum=0.9)"
   ]
  },
  {
   "cell_type": "code",
   "execution_count": 107,
   "metadata": {},
   "outputs": [],
   "source": [
    "def train_one_epoch(epoch_index):\n",
    "    running_loss = 0.\n",
    "    last_loss = 0.\n",
    "\n",
    "    # Here, we use enumerate(training_loader) instead of\n",
    "    # iter(training_loader) so that we can track the batch\n",
    "    # index and do some intra-epoch reporting\n",
    "    for i, data in enumerate(training_loader):\n",
    "        # Every data instance is an input + label pair\n",
    "        inputs, labels = data\n",
    "\n",
    "        # Zero your gradients for every batch!\n",
    "        optimizer.zero_grad()\n",
    "\n",
    "        # Make predictions for this batch\n",
    "        outputs, loss = model(inputs, labels)\n",
    "\n",
    "        loss.backward()\n",
    "\n",
    "        # Adjust learning weights\n",
    "        optimizer.step()\n",
    "\n",
    "        # Gather data and report\n",
    "        running_loss += loss.item()\n",
    "    \n",
    "    last_loss = running_loss / (i + 1)\n",
    "        \n",
    "\n",
    "    return last_loss"
   ]
  },
  {
   "cell_type": "code",
   "execution_count": 108,
   "metadata": {},
   "outputs": [
    {
     "name": "stdout",
     "output_type": "stream",
     "text": [
      "EPOCH 1:\n",
      "LOSS train 0.6022 LOSS valid: 0.5635   ACCURACY: 74.63%\n",
      "EPOCH 2:\n",
      "LOSS train 0.5828 LOSS valid: 0.5630   ACCURACY: 74.63%\n",
      "EPOCH 3:\n",
      "LOSS train 0.5801 LOSS valid: 0.5628   ACCURACY: 74.63%\n",
      "EPOCH 4:\n",
      "LOSS train 0.5795 LOSS valid: 0.5602   ACCURACY: 74.63%\n",
      "EPOCH 5:\n",
      "LOSS train 0.5783 LOSS valid: 0.5547   ACCURACY: 74.63%\n",
      "EPOCH 6:\n",
      "LOSS train 0.5637 LOSS valid: 0.5285   ACCURACY: 74.63%\n",
      "EPOCH 7:\n",
      "LOSS train 0.5064 LOSS valid: 0.4411   ACCURACY: 78.32%\n",
      "EPOCH 8:\n",
      "LOSS train 0.4493 LOSS valid: 0.4281   ACCURACY: 78.61%\n",
      "EPOCH 9:\n",
      "LOSS train 0.4330 LOSS valid: 0.4203   ACCURACY: 78.39%\n",
      "EPOCH 10:\n",
      "LOSS train 0.4283 LOSS valid: 0.4274   ACCURACY: 78.04%\n",
      "EPOCH 11:\n",
      "LOSS train 0.4267 LOSS valid: 0.4276   ACCURACY: 78.54%\n",
      "EPOCH 12:\n",
      "LOSS train 0.4215 LOSS valid: 0.4180   ACCURACY: 79.67%\n",
      "EPOCH 13:\n",
      "LOSS train 0.4188 LOSS valid: 0.4163   ACCURACY: 79.39%\n",
      "EPOCH 14:\n",
      "LOSS train 0.4201 LOSS valid: 0.4211   ACCURACY: 79.39%\n",
      "EPOCH 15:\n",
      "LOSS train 0.4185 LOSS valid: 0.4179   ACCURACY: 79.60%\n",
      "EPOCH 16:\n",
      "LOSS train 0.4163 LOSS valid: 0.4249   ACCURACY: 78.61%\n",
      "EPOCH 17:\n",
      "LOSS train 0.4135 LOSS valid: 0.4237   ACCURACY: 78.82%\n",
      "EPOCH 18:\n",
      "LOSS train 0.4143 LOSS valid: 0.4261   ACCURACY: 78.75%\n",
      "EPOCH 19:\n",
      "LOSS train 0.4149 LOSS valid: 0.4204   ACCURACY: 79.25%\n",
      "EPOCH 20:\n",
      "LOSS train 0.4115 LOSS valid: 0.4215   ACCURACY: 79.10%\n",
      "EPOCH 21:\n",
      "LOSS train 0.4174 LOSS valid: 0.4191   ACCURACY: 79.10%\n",
      "EPOCH 22:\n",
      "LOSS train 0.4127 LOSS valid: 0.4195   ACCURACY: 79.10%\n",
      "EPOCH 23:\n",
      "LOSS train 0.4106 LOSS valid: 0.4216   ACCURACY: 79.60%\n",
      "EPOCH 24:\n",
      "LOSS train 0.4091 LOSS valid: 0.4199   ACCURACY: 79.18%\n",
      "EPOCH 25:\n",
      "LOSS train 0.4129 LOSS valid: 0.4211   ACCURACY: 79.25%\n",
      "EPOCH 26:\n",
      "LOSS train 0.4082 LOSS valid: 0.4364   ACCURACY: 77.97%\n",
      "EPOCH 27:\n",
      "LOSS train 0.4080 LOSS valid: 0.4228   ACCURACY: 79.32%\n",
      "EPOCH 28:\n",
      "LOSS train 0.4055 LOSS valid: 0.4214   ACCURACY: 79.32%\n",
      "EPOCH 29:\n",
      "LOSS train 0.4089 LOSS valid: 0.4221   ACCURACY: 78.54%\n",
      "EPOCH 30:\n",
      "LOSS train 0.4081 LOSS valid: 0.4369   ACCURACY: 77.97%\n",
      "EPOCH 31:\n",
      "LOSS train 0.4059 LOSS valid: 0.4309   ACCURACY: 77.97%\n",
      "EPOCH 32:\n",
      "LOSS train 0.4050 LOSS valid: 0.4352   ACCURACY: 77.97%\n",
      "EPOCH 33:\n",
      "LOSS train 0.4030 LOSS valid: 0.4279   ACCURACY: 79.18%\n",
      "EPOCH 34:\n",
      "LOSS train 0.4046 LOSS valid: 0.4208   ACCURACY: 78.75%\n",
      "EPOCH 35:\n",
      "LOSS train 0.4026 LOSS valid: 0.4239   ACCURACY: 78.46%\n",
      "EPOCH 36:\n",
      "LOSS train 0.3995 LOSS valid: 0.4244   ACCURACY: 79.03%\n",
      "EPOCH 37:\n",
      "LOSS train 0.3992 LOSS valid: 0.4338   ACCURACY: 78.32%\n",
      "EPOCH 38:\n",
      "LOSS train 0.3991 LOSS valid: 0.4250   ACCURACY: 79.03%\n",
      "EPOCH 39:\n",
      "LOSS train 0.3964 LOSS valid: 0.4252   ACCURACY: 79.39%\n",
      "EPOCH 40:\n",
      "LOSS train 0.3997 LOSS valid: 0.4332   ACCURACY: 78.54%\n",
      "EPOCH 41:\n",
      "LOSS train 0.3982 LOSS valid: 0.4242   ACCURACY: 79.60%\n",
      "EPOCH 42:\n",
      "LOSS train 0.4001 LOSS valid: 0.4289   ACCURACY: 78.96%\n",
      "EPOCH 43:\n",
      "LOSS train 0.3974 LOSS valid: 0.4267   ACCURACY: 79.46%\n",
      "EPOCH 44:\n",
      "LOSS train 0.3942 LOSS valid: 0.4265   ACCURACY: 79.39%\n",
      "EPOCH 45:\n",
      "LOSS train 0.3979 LOSS valid: 0.4261   ACCURACY: 79.18%\n",
      "EPOCH 46:\n",
      "LOSS train 0.3920 LOSS valid: 0.4638   ACCURACY: 75.84%\n",
      "EPOCH 47:\n",
      "LOSS train 0.3989 LOSS valid: 0.4541   ACCURACY: 77.68%\n",
      "EPOCH 48:\n",
      "LOSS train 0.3956 LOSS valid: 0.4345   ACCURACY: 78.39%\n",
      "EPOCH 49:\n",
      "LOSS train 0.3895 LOSS valid: 0.4340   ACCURACY: 78.39%\n",
      "EPOCH 50:\n",
      "LOSS train 0.3922 LOSS valid: 0.4411   ACCURACY: 77.83%\n"
     ]
    }
   ],
   "source": [
    "EPOCHS = 50\n",
    "epoch_number = 0\n",
    "\n",
    "\n",
    "best_vloss = 1_000_000.\n",
    "\n",
    "for epoch in range(EPOCHS):\n",
    "    print('EPOCH {}:'.format(epoch_number + 1))\n",
    "\n",
    "    # Make sure gradient tracking is on, and do a pass over the data\n",
    "    model.train(True)\n",
    "    avg_loss = train_one_epoch(epoch_number)\n",
    "\n",
    "\n",
    "    running_vloss = 0.0\n",
    "    correct_predictions = 0  # Initialize the count of correct predictions\n",
    "    total_samples = 0  # Initialize the count of total validation samples\n",
    "\n",
    "    # Set the model to evaluation mode, disabling dropout and using population\n",
    "    # statistics for batch normalization.\n",
    "    model.eval()\n",
    "\n",
    "    # Disable gradient computation and reduce memory consumption.\n",
    "    with torch.no_grad():\n",
    "        for i, vdata in enumerate(validation_loader):\n",
    "            vinputs, vlabels = vdata\n",
    "            voutputs, vloss = model(vinputs, vlabels)\n",
    "            running_vloss += vloss\n",
    "            # Calculate accuracy\n",
    "            _, predicted = torch.max(voutputs, 1)\n",
    "            correct_predictions += (predicted == vlabels).sum().item()\n",
    "            total_samples += vlabels.size(0)\n",
    "\n",
    "    avg_vloss = running_vloss / (i + 1)\n",
    "    accuracy = correct_predictions / total_samples \n",
    "    print('LOSS train {:.4f} LOSS valid: {:.4f}   ACCURACY: {:.2%}'.format(avg_loss, avg_vloss, accuracy))\n",
    "\n",
    "\n",
    "    # Log the running loss averaged per batch\n",
    "    # for both training and validation\n",
    "\n",
    "\n",
    "    epoch_number += 1"
   ]
  },
  {
   "cell_type": "code",
   "execution_count": null,
   "metadata": {},
   "outputs": [],
   "source": []
  }
 ],
 "metadata": {
  "kernelspec": {
   "display_name": "CustomerChurn",
   "language": "python",
   "name": "python3"
  },
  "language_info": {
   "codemirror_mode": {
    "name": "ipython",
    "version": 3
   },
   "file_extension": ".py",
   "mimetype": "text/x-python",
   "name": "python",
   "nbconvert_exporter": "python",
   "pygments_lexer": "ipython3",
   "version": "3.8.17"
  },
  "orig_nbformat": 4
 },
 "nbformat": 4,
 "nbformat_minor": 2
}
