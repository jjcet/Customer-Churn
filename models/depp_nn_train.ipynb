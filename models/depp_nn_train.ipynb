{
 "cells": [
  {
   "cell_type": "code",
   "execution_count": 11,
   "metadata": {},
   "outputs": [],
   "source": [
    "import torch\n",
    "from torch.utils.data import Dataset, DataLoader\n",
    "import pandas as pd\n",
    "import torch.nn as nn\n",
    "import torch.nn.functional as F"
   ]
  },
  {
   "cell_type": "code",
   "execution_count": 3,
   "metadata": {},
   "outputs": [
    {
     "name": "stdout",
     "output_type": "stream",
     "text": [
      "c:\\Users\\johny\\ChurnProject\\Customer-Churn\n",
      "c:\\Users\\johny\\ChurnProject\\Customer-Churn\\data\n"
     ]
    }
   ],
   "source": [
    "%pwd\n",
    "%cd \"../\"\n",
    "%cd \"data\""
   ]
  },
  {
   "cell_type": "code",
   "execution_count": 48,
   "metadata": {},
   "outputs": [],
   "source": [
    "class MyDataset(Dataset):\n",
    " \n",
    "  def __init__(self,split):\n",
    "    X = pd.read_csv(f\"X_{split}.csv\")\n",
    "    y = pd.read_csv(f\"y_{split}.csv\")\n",
    "\n",
    "    self.input_size = X.shape[1]\n",
    "\n",
    "    self.x=torch.tensor(X.values,dtype=torch.float32)\n",
    "    self.y=torch.tensor(y.values,dtype=torch.long).view(-1)\n",
    "    print(self.x.shape, self.y.shape)\n",
    " \n",
    "  def __len__(self):\n",
    "    return len(self.y)\n",
    "  \n",
    "   \n",
    "  def __getitem__(self,idx):\n",
    "    return self.x[idx],self.y[idx]"
   ]
  },
  {
   "cell_type": "code",
   "execution_count": 49,
   "metadata": {},
   "outputs": [
    {
     "name": "stdout",
     "output_type": "stream",
     "text": [
      "torch.Size([5625, 35]) torch.Size([5625])\n",
      "torch.Size([1407, 35]) torch.Size([1407])\n"
     ]
    }
   ],
   "source": [
    "training_set=MyDataset(split=\"train\")\n",
    "validation_set=MyDataset(split=\"test\") \n",
    "training_loader=DataLoader(training_set, batch_size=100, shuffle=True)\n",
    "validation_loader=DataLoader(validation_set,batch_size=100,shuffle=False)"
   ]
  },
  {
   "cell_type": "code",
   "execution_count": 50,
   "metadata": {},
   "outputs": [
    {
     "name": "stdout",
     "output_type": "stream",
     "text": [
      "Training set has 5625 instances\n",
      "Input vector size set has length of 35 \n",
      "Validation set has 1407 instances\n"
     ]
    }
   ],
   "source": [
    "print('Training set has {} instances'.format(len(training_set)))\n",
    "print('Input vector size set has length of {} '.format(training_set.input_size))\n",
    "print('Validation set has {} instances'.format(len(validation_set)))"
   ]
  },
  {
   "cell_type": "code",
   "execution_count": 51,
   "metadata": {},
   "outputs": [],
   "source": [
    "class ChurnClassifier(nn.Module):\n",
    "    def __init__(self, input_length, num_classes):\n",
    "        super(ChurnClassifier, self).__init__()\n",
    "        self.fc1 = nn.Linear(input_length, 120)\n",
    "        self.fc2 = nn.Linear(120, 120)\n",
    "        self.fc3 = nn.Linear(120, 120)\n",
    "        self.fc4 = nn.Linear(120, 50)\n",
    "        self.fc5 = nn.Linear(50, 10)\n",
    "        self.fc6 = nn.Linear(10, num_classes)\n",
    "        self.relu = nn.ReLU()\n",
    "        self.loss = torch.nn.CrossEntropyLoss()\n",
    "        self.dropout = nn.Dropout(0.1)\n",
    "\n",
    "\n",
    "    def forward(self, x, targets=None):\n",
    "        x = self.fc1(x)\n",
    "        x = self.relu(x)\n",
    "        x = self.fc2(x)\n",
    "        x = self.relu(x)\n",
    "        x = self.fc3(x)\n",
    "        x = self.relu(x)\n",
    "        x = self.fc4(x)\n",
    "        x = self.relu(x)\n",
    "        x = self.fc5(x)\n",
    "        x = self.relu(x)\n",
    "        x = self.fc6(x)\n",
    "        if targets is None:\n",
    "            loss = None\n",
    "        else:\n",
    "            loss = self.loss(x, targets)\n",
    "        return x, loss\n",
    "\n",
    "\n",
    "\n",
    "model = ChurnClassifier(input_length=training_set.input_size, num_classes=2)"
   ]
  },
  {
   "cell_type": "code",
   "execution_count": 56,
   "metadata": {},
   "outputs": [
    {
     "data": {
      "text/plain": [
       "(tensor([-0.0567, -0.2343], grad_fn=<AddBackward0>), None)"
      ]
     },
     "execution_count": 56,
     "metadata": {},
     "output_type": "execute_result"
    }
   ],
   "source": [
    "model(torch.rand(training_set.input_size))"
   ]
  },
  {
   "cell_type": "code",
   "execution_count": 63,
   "metadata": {},
   "outputs": [],
   "source": [
    "# Optimizers specified in the torch.optim package\n",
    "optimizer = torch.optim.SGD(model.parameters(), lr=0.01, momentum=0.9)"
   ]
  },
  {
   "cell_type": "code",
   "execution_count": 64,
   "metadata": {},
   "outputs": [],
   "source": [
    "def train_one_epoch(epoch_index):\n",
    "    running_loss = 0.\n",
    "    last_loss = 0.\n",
    "\n",
    "    # Here, we use enumerate(training_loader) instead of\n",
    "    # iter(training_loader) so that we can track the batch\n",
    "    # index and do some intra-epoch reporting\n",
    "    for i, data in enumerate(training_loader):\n",
    "        # Every data instance is an input + label pair\n",
    "        inputs, labels = data\n",
    "\n",
    "        # Zero your gradients for every batch!\n",
    "        optimizer.zero_grad()\n",
    "\n",
    "        # Make predictions for this batch\n",
    "        outputs, loss = model(inputs, labels)\n",
    "\n",
    "        loss.backward()\n",
    "\n",
    "        # Adjust learning weights\n",
    "        optimizer.step()\n",
    "\n",
    "        # Gather data and report\n",
    "        running_loss += loss.item()\n",
    "        if i % 1000 == 999:\n",
    "            last_loss = running_loss / 1000 # loss per batch\n",
    "            print('  batch {} loss: {}'.format(i + 1, last_loss))\n",
    "            running_loss = 0.\n",
    "\n",
    "    return last_loss"
   ]
  },
  {
   "cell_type": "code",
   "execution_count": 65,
   "metadata": {},
   "outputs": [
    {
     "name": "stdout",
     "output_type": "stream",
     "text": [
      "EPOCH 1:\n"
     ]
    },
    {
     "name": "stdout",
     "output_type": "stream",
     "text": [
      "LOSS  valid 0.5503108501434326\n",
      "EPOCH 2:\n",
      "LOSS  valid 0.5513670444488525\n",
      "EPOCH 3:\n",
      "LOSS  valid 0.5508398413658142\n",
      "EPOCH 4:\n",
      "LOSS  valid 0.5505504012107849\n",
      "EPOCH 5:\n",
      "LOSS  valid 0.5490055084228516\n",
      "EPOCH 6:\n",
      "LOSS  valid 0.5469681024551392\n",
      "EPOCH 7:\n",
      "LOSS  valid 0.5382995009422302\n",
      "EPOCH 8:\n",
      "LOSS  valid 0.5132974982261658\n",
      "EPOCH 9:\n",
      "LOSS  valid 0.4446110427379608\n",
      "EPOCH 10:\n",
      "LOSS  valid 0.41627538204193115\n",
      "EPOCH 11:\n",
      "LOSS  valid 0.4232126474380493\n",
      "EPOCH 12:\n",
      "LOSS  valid 0.4186873137950897\n",
      "EPOCH 13:\n",
      "LOSS  valid 0.41015464067459106\n",
      "EPOCH 14:\n",
      "LOSS  valid 0.41167986392974854\n",
      "EPOCH 15:\n",
      "LOSS  valid 0.41034409403800964\n",
      "EPOCH 16:\n",
      "LOSS  valid 0.4328996241092682\n",
      "EPOCH 17:\n",
      "LOSS  valid 0.40870848298072815\n",
      "EPOCH 18:\n",
      "LOSS  valid 0.41760143637657166\n",
      "EPOCH 19:\n",
      "LOSS  valid 0.40999001264572144\n",
      "EPOCH 20:\n",
      "LOSS  valid 0.4287678301334381\n"
     ]
    }
   ],
   "source": [
    "EPOCHS = 20\n",
    "epoch_number = 0\n",
    "\n",
    "\n",
    "best_vloss = 1_000_000.\n",
    "\n",
    "for epoch in range(EPOCHS):\n",
    "    print('EPOCH {}:'.format(epoch_number + 1))\n",
    "\n",
    "    # Make sure gradient tracking is on, and do a pass over the data\n",
    "    model.train(True)\n",
    "    avg_loss = train_one_epoch(epoch_number)\n",
    "\n",
    "\n",
    "    running_vloss = 0.0\n",
    "    # Set the model to evaluation mode, disabling dropout and using population\n",
    "    # statistics for batch normalization.\n",
    "    model.eval()\n",
    "\n",
    "    # Disable gradient computation and reduce memory consumption.\n",
    "    with torch.no_grad():\n",
    "        for i, vdata in enumerate(validation_loader):\n",
    "            vinputs, vlabels = vdata\n",
    "            voutputs, vloss = model(vinputs, vlabels)\n",
    "            running_vloss += vloss\n",
    "\n",
    "    avg_vloss = running_vloss / (i + 1)\n",
    "    print('LOSS  valid {}'.format( avg_vloss))\n",
    "\n",
    "    # Log the running loss averaged per batch\n",
    "    # for both training and validation\n",
    "\n",
    "\n",
    "    epoch_number += 1"
   ]
  },
  {
   "cell_type": "code",
   "execution_count": null,
   "metadata": {},
   "outputs": [],
   "source": []
  }
 ],
 "metadata": {
  "kernelspec": {
   "display_name": "CustomerChurn",
   "language": "python",
   "name": "python3"
  },
  "language_info": {
   "codemirror_mode": {
    "name": "ipython",
    "version": 3
   },
   "file_extension": ".py",
   "mimetype": "text/x-python",
   "name": "python",
   "nbconvert_exporter": "python",
   "pygments_lexer": "ipython3",
   "version": "3.8.17"
  },
  "orig_nbformat": 4
 },
 "nbformat": 4,
 "nbformat_minor": 2
}
